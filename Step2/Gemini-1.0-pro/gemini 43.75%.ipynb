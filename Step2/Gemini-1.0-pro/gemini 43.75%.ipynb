{
 "cells": [
  {
   "cell_type": "code",
   "execution_count": 1,
   "metadata": {
    "id": "4UFk_ILVoWrK"
   },
   "outputs": [],
   "source": [
    "import google.generativeai as genai\n",
    "from google.colab import userdata\n",
    "gemini_key = userdata.get('gemini_key')\n",
    "\n",
    "\n",
    "genai.configure(api_key=gemini_key)"
   ]
  },
  {
   "cell_type": "code",
   "execution_count": 2,
   "metadata": {
    "id": "HxYEAnmyolEI"
   },
   "outputs": [],
   "source": [
    "# configuration du modèle\n",
    "generation_config = {\n",
    "  \"temperature\": 0,\n",
    "  \"top_p\": 1,\n",
    "  \"top_k\": 5,\n",
    "  \"max_output_tokens\": 2048,\n",
    "}"
   ]
  },
  {
   "cell_type": "code",
   "execution_count": 3,
   "metadata": {
    "id": "JHN3ZdOmovvK"
   },
   "outputs": [],
   "source": [
    "# appel au modèle generative avec la configuration déjà fixée\n",
    "model = genai.GenerativeModel(model_name= \"gemini-1.0-pro\",\n",
    "                              generation_config = generation_config)"
   ]
  },
  {
   "cell_type": "code",
   "execution_count": 6,
   "metadata": {
    "id": "7QEYbKygoz3Y"
   },
   "outputs": [],
   "source": [
    "import csv\n",
    "import random\n",
    "import pandas as pd\n",
    "\n",
    "# Charger le fichier TSV\n",
    "df = pd.read_csv(\"/content/cti-mcq.tsv\", sep=\"\\t\")\n",
    "\n",
    "# Sélectionner les colonnes souhaitées\n",
    "columns_to_extract = [\"Question\", \"Option A\", \"Option B\", \"Option C\", \"Option D\",\"Prompt\tGT\"]\n",
    "df_questions = df[columns_to_extract]\n",
    "\n",
    "# Extraire aléatoirement 100 lignes\n",
    "df_questions_sample = df_questions.sample(n=100)\n",
    "\n",
    "# Enregistrer les questions dans un fichier CSV\n",
    "df_questions_sample.to_csv(\"questions.csv\", index=False)\n",
    "\n",
    "# Extraire les valeurs GT correspondantes\n",
    "df_gt = df.loc[df_questions_sample.index, \"GT\"]\n",
    "\n",
    "# Enregistrer les valeurs GT dans un fichier CSV\n",
    "df_gt.to_csv(\"gt.csv\", index=False)"
   ]
  },
  {
   "cell_type": "code",
   "execution_count": null,
   "metadata": {
    "id": "TEpNV15xByaX"
   },
   "outputs": [],
   "source": [
    "# Ouvrir un fichier CSV pour enregistrer les réponses\n",
    "with open(\"responses.csv\", 'w', newline='') as csvfile:\n",
    "    writer = csv.writer(csvfile)\n",
    "    writer.writerow([\"Question\", \"Option A\", \"Option B\", \"Option C\", \"Option D\", \"Réponse\"])  # En-tête\n",
    "\n",
    "    # Charger les questions à partir de \"questions.csv\"\n",
    "    with open(\"questions.csv\", 'r', newline='') as f:\n",
    "        reader = csv.DictReader(f)\n",
    "        for row in reader:\n",
    "            question = row[\"Question\"]\n",
    "            option_a = row[\"Option A\"]\n",
    "            option_b = row[\"Option B\"]\n",
    "            option_c = row[\"Option C\"]\n",
    "            option_d = row[\"Option D\"]\n",
    "            #bonne_reponse = row[\"GT\"]  # Assuming \"GT\" is the column for the correct answer\n",
    "\n",
    "            # Générer le prompt\n",
    "            prompt = f\"Répond brièvement à la question suivante en choisissant la bonne réponse parmi les options A,B?C ou D : \\n\\n{question}\\n\\nA. {option_a}\\nB. {option_b}\\nC. {option_c}\\nD. {option_d}\"\n",
    "\n",
    "            response = model.generate_content(prompt, stream=True)\n",
    "\n",
    "\n"
   ]
  },
  {
   "cell_type": "code",
   "execution_count": 8,
   "metadata": {
    "colab": {
     "base_uri": "https://localhost:8080/"
    },
    "id": "2E-totSAx61K",
    "outputId": "8f0d0a87-668c-4709-a0a9-7bb25dd6f7b8"
   },
   "outputs": [
    {
     "name": "stdout",
     "output_type": "stream",
     "text": [
      "GT\n",
      "C\n",
      "C\n",
      "C\n",
      "C\n",
      "C\n",
      "A\n",
      "C\n",
      "A\n",
      "C\n",
      "B\n",
      "C\n",
      "C\n",
      "D\n",
      "C\n",
      "B\n",
      "B\n",
      "A\n",
      "C\n",
      "C\n",
      "C\n",
      "C\n",
      "C\n",
      "D\n",
      "C\n",
      "B\n",
      "B\n",
      "D\n",
      "C\n",
      "D\n",
      "C\n",
      "A\n",
      "C\n",
      "C\n",
      "B\n",
      "C\n",
      "A\n",
      "A\n",
      "A\n",
      "C\n",
      "C\n",
      "B\n",
      "B\n",
      "A\n",
      "C\n",
      "B\n",
      "A\n",
      "A\n",
      "C\n",
      "C\n",
      "D\n",
      "B\n",
      "C\n",
      "B\n",
      "B\n",
      "B\n",
      "A\n",
      "C\n",
      "B\n",
      "C\n",
      "B\n",
      "A\n",
      "A\n",
      "B\n",
      "A\n",
      "C\n",
      "A\n",
      "C\n",
      "C\n",
      "D\n",
      "A\n",
      "C\n",
      "B\n",
      "C\n",
      "B\n",
      "D\n",
      "A\n",
      "C\n",
      "C\n",
      "B\n",
      "C\n",
      "D\n",
      "B\n",
      "B\n",
      "B\n",
      "A\n",
      "C\n",
      "B\n",
      "B\n",
      "C\n",
      "B\n",
      "C\n",
      "C\n",
      "A\n",
      "C\n",
      "B\n",
      "D\n",
      "B\n",
      "B\n",
      "D\n",
      "B\n",
      "\n"
     ]
    }
   ],
   "source": [
    "# Ouvrir le fichier en mode lecture\n",
    "fichier = open('gt.csv', 'r')\n",
    "\n",
    "# Lire le contenu du fichier\n",
    "contenu = fichier.read()\n",
    "\n",
    "# Afficher le contenu\n",
    "print(contenu)\n",
    "\n",
    "# Fermer le fichier\n",
    "fichier.close()"
   ]
  },
  {
   "cell_type": "code",
   "execution_count": 11,
   "metadata": {
    "colab": {
     "base_uri": "https://localhost:8080/"
    },
    "id": "GS_rGTXWy6en",
    "outputId": "d50f9c07-ccdb-4ede-c941-3bc099270d73"
   },
   "outputs": [
    {
     "name": "stdout",
     "output_type": "stream",
     "text": [
      "Question,Option A,Option B,Option C,Option D,Réponse\n",
      "What is the typical severity level for the attack pattern CAPEC-75: Manipulating Writeable Configuration Files?,Low,Medium,Very High,High,D. High\n",
      "\"Jim works as a security analyst in a large multinational company. Recently, a group of hackers penetrated into their organizational network and used a data staging technique to collect sensitive data. They collected all sorts of sensitive data about the employees and customers, business tactics of the organization, financial information, network infrastructure information and so on. What should Jim do to detect the data staging before the hackers exfiltrate from the network?\",Jim should identify the attack at an initial stage by checking the content of the user agent field.,\"Jim should analyze malicious DNS requests, DNS payload, unspecified domains, and destination of DNS requests.\",\"Jim should monitor network traffic for malicious file transfers, file integrity monitoring, and event logs.\",\"Jim should identify the web shell running in the network by analyzing server access, error logs, suspicious strings indicating encoding, user agent strings, and so on.\",\"C. Jim should monitor network traffic for malicious file transfers, file integrity monitoring, and event logs.\"\n",
      "What legitimate use does CMSTP.exe have according to its description in MITRE ATT&CK technique T1218.003?,Installing device drivers,Installing security updates,Installing Connection Manager service profiles,Updating system registry entries,C. Installing Connection Manager service profiles\n",
      "Which of the following mitigations is recommended for addressing CWE-486 in the Implementation phase?,Refactor code to use dynamic typing instead of static typing.,Use annotation processing to enforce class equivalencies.,Use class equivalency to determine type using getClass() and == operator instead of class name.,Implement signature-based verification for object identity.,B. Use annotation processing to enforce class equivalencies.\n",
      "Which phase is recommended for using antivirus software to mitigate CWE-509?,Implementation,StatusVerification,Operation,Installation,D. Installation\n",
      "Which specific mitigation strategy focuses on limiting access to the container environment's APIs to managed and secure channels?,M1035 - Limit Access to Resource Over Network,M1018 - User Account Management,M1030 - Network Segmentation,M1035 - Use Disk Encryption,A. M1035 - Limit Access to Resource Over Network\n",
      "Which of the following MITRE ATT&CK techniques (ID and Name) is specifically associated with the tactic of Initial Access using removable media?,T0851 - Supply Chain Compromise,T0804 - Network Sniffing,T0847 - Replication Through Removable Media,T1078 - Valid Accounts,C. T0847 - Replication Through Removable Media\n",
      "4. Which data source can be used to detect malicious use of the Android MediaProjectionManager class for the Screen Capture (T1513) technique?,Application Vetting (DS0041),Network Traffic Analysis (DS0057),User Behavior Analytics (DS0034),Endpoint Detection and Response (DS0031),B. Network Traffic Analysis (DS0057)\n",
      "\"For MITRE ATT&CK technique T1029, some adversaries use which of the following exfiltration techniques alongside Scheduled Transfer to move data out of the network?\",Exfiltration Over Physical Medium (T1052),Exfiltration Over Web Service (T1567),Exfiltration Over C2 Channel (T1041),Exfiltration Over Bluetooth (T1011),A. Exfiltration Over Physical Medium (T1052)\n",
      "Which technique under MITRE ATT&CK Command and Control tactic involves the abuse of native mobile messaging services like Google Cloud Messaging (GCM) and Firebase Cloud Messaging (FCM)?,T1023: Short File Name Discovery,T1071.001: Application Layer Protocol: Web Protocols,T1059: Command-Line Interface,T1566.001: Phishing: Email Phishing,A. T1023: Short File Name Discovery\n",
      "Under which scenario can a Silver Ticket be utilized based on MITRE ATT&CK T1550.003?,It can access all resources in a domain,It is used to request service tickets for other resources,It allows access to a specific resource,It involves the use of NTLM password hash,C. It allows access to a specific resource\n",
      "\"In the context of CWE-1320, which mitigation strategy is recommended during the architecture and design phase?\",Using encryption to protect all data,Employing robust authentication mechanisms,Ensuring alert signals are protected from untrusted agents,Implementing network segmentation,B. Employing robust authentication mechanisms\n",
      "What is a common mitigation strategy for CWE-87 during implementation?,Neutralizing only specified user input parameters,Using absolute or canonical representations for input,data validation for expected fields only,Creating an allowlist for specific characters and formats,B. Using absolute or canonical representations for input\n",
      "\"In MITRE ATT&CK technique T1406, which malware uses a Domain Generation Algorithm to decode the C2 server location?\",Monokle,OBAD,SharkBot,TianySpy,B. OBAD\n",
      "How can network traffic be analyzed to detect unauthorized program uploads according to MITRE ATT&CK for ICS?,By monitoring device alarms only,By examining network traffic flow for irregular bulk transfers,By checking the content of all ingoing and outgoing emails,By setting up honeypots to catch unauthorized access,B. By examining network traffic flow for irregular bulk transfers\n",
      "\"Which technique ID corresponds to \"\"Input Capture: GUI Input Capture\"\" in MITRE ATT&CK framework?\",T1053,T1417.002,T1087,T1065,B. T1417.002\n",
      "\n"
     ]
    }
   ],
   "source": [
    "# Ouvrir le fichier en mode lecture\n",
    "fichier = open('responses.csv', 'r')\n",
    "\n",
    "# Lire le contenu du fichier\n",
    "contenu = fichier.read()\n",
    "\n",
    "# Afficher le contenu\n",
    "print(contenu)\n",
    "\n",
    "# Fermer le fichier\n",
    "fichier.close()"
   ]
  },
  {
   "cell_type": "code",
   "execution_count": null,
   "metadata": {
    "colab": {
     "base_uri": "https://localhost:8080/"
    },
    "id": "2pAWmqMo0uhD",
    "outputId": "bd1414d1-ba15-404a-ac61-c1edcb41bf40"
   },
   "outputs": [
    {
     "name": "stdout",
     "output_type": "stream",
     "text": [
      "Le score de précision est de 43.75%\n"
     ]
    }
   ],
   "source": [
    "def calculer_score(gt_file, responses_file):\n",
    "    nb_correct = 0\n",
    "    nb_total = 0\n",
    "\n",
    "    with open(gt_file, 'r', newline='') as gt_csvfile, open(responses_file, 'r', newline='') as responses_csvfile:\n",
    "        gt_reader = csv.reader(gt_csvfile)\n",
    "        responses_reader = csv.reader(responses_csvfile)\n",
    "\n",
    "        # Ignorer les en-têtes\n",
    "        next(gt_reader)\n",
    "        next(responses_reader)\n",
    "\n",
    "        for gt_row, responses_row in zip(gt_reader, responses_reader):\n",
    "            # Extraire la bonne réponse du fichier 'gt.csv'\n",
    "            bonne_reponse = gt_row[0]\n",
    "\n",
    "            # Extraire la réponse du fichier 'responses.csv'\n",
    "            reponse = responses_row[-1]\n",
    "\n",
    "            # Vérifier si le premier caractère de la réponse est correct\n",
    "            if reponse[0] == bonne_reponse:\n",
    "                nb_correct += 1\n",
    "            nb_total += 1\n",
    "\n",
    "    score = (nb_correct / nb_total) * 100\n",
    "    return score\n",
    "\n",
    "# Exemple d'utilisation\n",
    "gt_file = \"gt.csv\"\n",
    "responses_file = \"responses.csv\"\n",
    "\n",
    "score = calculer_score(gt_file, responses_file)\n",
    "print(f\"Le score de précision est de {score:.2f}%\")"
   ]
  }
 ],
 "metadata": {
  "colab": {
   "provenance": []
  },
  "kernelspec": {
   "display_name": "Python 3",
   "name": "python3"
  },
  "language_info": {
   "name": "python"
  }
 },
 "nbformat": 4,
 "nbformat_minor": 0
}
