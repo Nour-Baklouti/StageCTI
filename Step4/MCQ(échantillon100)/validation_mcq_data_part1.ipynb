{
  "nbformat": 4,
  "nbformat_minor": 0,
  "metadata": {
    "colab": {
      "provenance": [],
      "gpuType": "T4"
    },
    "kernelspec": {
      "name": "python3",
      "display_name": "Python 3"
    },
    "language_info": {
      "name": "python"
    },
    "accelerator": "GPU"
  },
  "cells": [
    {
      "cell_type": "code",
      "execution_count": 1,
      "metadata": {
        "id": "lFvym0ePP410"
      },
      "outputs": [],
      "source": [
        "import google.generativeai as genai\n",
        "from google.colab import userdata\n",
        "gemini_key = userdata.get('22_key')\n",
        "\n",
        "\n",
        "genai.configure(api_key=gemini_key)"
      ]
    },
    {
      "cell_type": "code",
      "source": [
        "# configuration du modèle\n",
        "generation_config = {\n",
        "  \"temperature\": 0,\n",
        "  \"top_p\": 1,\n",
        "  \"top_k\": 5,\n",
        "  \"max_output_tokens\": 2048,\n",
        "}"
      ],
      "metadata": {
        "id": "H7JHEsoSP_3B"
      },
      "execution_count": 2,
      "outputs": []
    },
    {
      "cell_type": "code",
      "source": [
        "# appel au modèle generative avec la configuration déjà fixée\n",
        "model = genai.GenerativeModel(model_name= \"gemini-1.0-pro\",\n",
        "                              generation_config = generation_config)"
      ],
      "metadata": {
        "id": "A5oYKsx3P9k7"
      },
      "execution_count": 3,
      "outputs": []
    },
    {
      "cell_type": "code",
      "source": [
        "import pandas as pd\n",
        "\n",
        "# Remplace 'ton_fichier.tsv' par le nom de ton fichier TSV\n",
        "df = pd.read_csv('/content/questions_reponses_generation_mcq.tsv', sep='\\t')\n",
        "\n",
        "# Affiche les index et les premières lignes du fichier\n",
        "print(df.index)         # Montre les index des lignes\n",
        "print(df.columns)       # Affiche les noms des colonnes\n",
        "print(df.head())        # Affiche les premières lignes pour avoir un aperçu\n"
      ],
      "metadata": {
        "colab": {
          "base_uri": "https://localhost:8080/"
        },
        "id": "GyJlfZrrWIQ1",
        "outputId": "ffb2fe11-86cb-45b5-8d81-f2048039f7c3"
      },
      "execution_count": 4,
      "outputs": [
        {
          "output_type": "stream",
          "name": "stdout",
          "text": [
            "RangeIndex(start=0, stop=1363, step=1)\n",
            "Index(['Question', 'A', 'B', 'C', 'D', 'Réponse correcte'], dtype='object')\n",
            "                                            Question     A   B   C   D  \\\n",
            "0  Question : Quel est le rôle de la base de conn...     D NaN NaN NaN   \n",
            "1  Question : Dans quel but le document décrit-il...     A NaN NaN NaN   \n",
            "2  **Question :**\\n\\nQuel type d'objet est struct...  ** C NaN NaN NaN   \n",
            "3  Question : Quel élément de l'ATT&CK Methodolog...     A NaN NaN NaN   \n",
            "4  **Question :**\\n\\nQuelle section du document t...   B** NaN NaN NaN   \n",
            "\n",
            "   Réponse correcte  \n",
            "0               NaN  \n",
            "1               NaN  \n",
            "2               NaN  \n",
            "3               NaN  \n",
            "4               NaN  \n"
          ]
        }
      ]
    },
    {
      "cell_type": "code",
      "source": [
        "import pandas as pd\n",
        "import random\n",
        "\n",
        "# Charger le fichier TSV\n",
        "file_path = '/content/questions_reponses_generation_mcq.tsv'\n",
        "df = pd.read_csv(file_path, sep='\\t')\n",
        "\n",
        "# Extraire 100 lignes aléatoires\n",
        "random_sample = df.sample(n=100, random_state=42)\n",
        "\n",
        "# Afficher les résultats\n",
        "print(random_sample)\n",
        "\n",
        "# Optionnel : Sauvegarder l'échantillon dans un nouveau fichier TSV\n",
        "random_sample.to_csv('/content/random_sample_mcq.tsv', sep='\\t', index=False)\n"
      ],
      "metadata": {
        "colab": {
          "base_uri": "https://localhost:8080/"
        },
        "id": "81JKhjxUwkeq",
        "outputId": "0be5281b-a301-4611-f64c-30cd8952da73"
      },
      "execution_count": 5,
      "outputs": [
        {
          "output_type": "stream",
          "name": "stdout",
          "text": [
            "                                               Question  A   B   C   D  \\\n",
            "428   Question :  Quel type de faiblesse est celui o...  A NaN NaN NaN   \n",
            "930   Question : Quelle conséquence commune de la fa...  C NaN NaN NaN   \n",
            "781   Question : Quel est le type de vulnérabilité d...  C NaN NaN NaN   \n",
            "451   Question :\\nQuel type de relation est établi e...  B NaN NaN NaN   \n",
            "429   Question : Le texte indique que la vulnérabili...  A NaN NaN NaN   \n",
            "...                                                 ... ..  ..  ..  ..   \n",
            "1078  Question : Quelle est la faiblesse décrite dan...  A NaN NaN NaN   \n",
            "1128  Question : Laquelle des affirmations suivantes...  C NaN NaN NaN   \n",
            "265   Question : Quel CWE concerne les faiblesses de...  B NaN NaN NaN   \n",
            "514   Question :\\nQuel type d'attaque peut être caus...  C NaN NaN NaN   \n",
            "597   Question : Quel type de codage de sortie est r...  A NaN NaN NaN   \n",
            "\n",
            "      Réponse correcte  \n",
            "428                NaN  \n",
            "930                NaN  \n",
            "781                NaN  \n",
            "451                NaN  \n",
            "429                NaN  \n",
            "...                ...  \n",
            "1078               NaN  \n",
            "1128               NaN  \n",
            "265                NaN  \n",
            "514                NaN  \n",
            "597                NaN  \n",
            "\n",
            "[100 rows x 6 columns]\n"
          ]
        }
      ]
    },
    {
      "cell_type": "code",
      "source": [
        "import pandas as pd\n",
        "from tqdm import tqdm\n",
        "\n",
        "# Load the TSV file\n",
        "file_path = '/content/random_sample_mcq.tsv'\n",
        "df = pd.read_csv(file_path, sep='\\t')\n",
        "\n",
        "# Function to generate an answer from the question\n",
        "def generate_answer(question):\n",
        "    prompt = f\"You are given a multiple-choice question (MCQ) from a Cyber Threat Intelligence (CTI) knowledge benchmark dataset. Your task is to choose the best option among the four provided. Return your answer as a single uppercase letter: A, B, C, or D.\\n\\n{question}\"\n",
        "\n",
        "    try:\n",
        "        # Use the model to generate the response\n",
        "        response = model.generate_content(prompt, stream=True)\n",
        "        response.resolve()  # Wait for the response to complete\n",
        "\n",
        "        # Return the text if successfully generated\n",
        "        return response.text.strip()\n",
        "\n",
        "    except ValueError as e:\n",
        "        print(f\"Warning: Content flagged for question: {question}\")\n",
        "        return \"Flagged\"  # Return a default value or handle as needed\n",
        "\n",
        "# Display the progress bar for generating answers\n",
        "tqdm.pandas(desc=\"Generating responses\")\n",
        "\n",
        "# Add the 'GenRes' column with generated answers\n",
        "df['GenRes'] = df['Question'].progress_apply(generate_answer)\n",
        "\n",
        "# Save the DataFrame with the added column to the same TSV file\n",
        "df.to_csv(file_path, sep='\\t', index=False)\n",
        "\n",
        "print(f\"The file with generated answers has been saved to: {file_path}\")\n"
      ],
      "metadata": {
        "colab": {
          "base_uri": "https://localhost:8080/",
          "height": 1000
        },
        "id": "4c2aNKWFgyQG",
        "outputId": "27b5e2af-6a73-4455-8285-88738c2e256d"
      },
      "execution_count": 10,
      "outputs": [
        {
          "output_type": "stream",
          "name": "stderr",
          "text": [
            "Generating responses:   9%|▉         | 9/100 [00:13<02:19,  1.53s/it]"
          ]
        },
        {
          "output_type": "stream",
          "name": "stdout",
          "text": [
            "Warning: Content flagged for question: Question : Quelle est la description concise de cette vulnérabilité CWE-76 ?\n",
            "A. Neutralisation incorrecte d'éléments spéciaux équivalents\n",
            "B. Injection d'un élément spécial\n",
            "C. Neutralisation incorrecte d'éléments spéciaux dans une commande\n",
            "D. Filtrage incorrect d'éléments spéciaux dangereux\n"
          ]
        },
        {
          "output_type": "stream",
          "name": "stderr",
          "text": [
            "Generating responses:  28%|██▊       | 28/100 [00:40<01:28,  1.23s/it]"
          ]
        },
        {
          "output_type": "stream",
          "name": "stdout",
          "text": [
            "Warning: Content flagged for question: Question : Quelle mesure ne peut PAS être imposée par une autorité de contrôle selon le texte ?\n",
            "A. Interdire le traitement des données\n",
            "B. Ordonner la rectification ou l'effacement des données\n",
            "C. Imposer une amende\n",
            "D. Autoriser le transfert de données vers un pays tiers\n"
          ]
        },
        {
          "output_type": "stream",
          "name": "stderr",
          "text": [
            "Generating responses:  30%|███       | 30/100 [00:45<01:59,  1.71s/it]"
          ]
        },
        {
          "output_type": "stream",
          "name": "stdout",
          "text": [
            "Warning: Content flagged for question: Question : Quelle cause commune de fuite de mémoire est évoquée dans le texte ?\n",
            "A. Erreurs de programmation\n",
            "B. Attaques malveillantes\n",
            "C. Bug mémoire\n",
            "D. Mauvaise gestion de la pile\n"
          ]
        },
        {
          "output_type": "stream",
          "name": "stderr",
          "text": [
            "\rGenerating responses:  31%|███       | 31/100 [00:46<01:38,  1.43s/it]"
          ]
        },
        {
          "output_type": "stream",
          "name": "stdout",
          "text": [
            "Warning: Content flagged for question: Question : Laquelle des solutions suivantes est recommandée pour empêcher les déréférencements de pointeurs nuls ?\n",
            "A. Utiliser un langage non sensible à ces problèmes\n",
            "B. Vérifier les résultats des fonctions qui retournent une valeur\n",
            "C. Initialiser explicitement toutes les variables\n",
            "D. Utiliser des outils d'analyse statique automatisés\n"
          ]
        },
        {
          "output_type": "stream",
          "name": "stderr",
          "text": [
            "\rGenerating responses:  32%|███▏      | 32/100 [00:47<01:25,  1.26s/it]"
          ]
        },
        {
          "output_type": "stream",
          "name": "stdout",
          "text": [
            "Warning: Content flagged for question: Question : Parmi les options suivantes, laquelle n'est PAS une mesure de prévention contre les dépassements de tampon ?\n",
            "\n",
            "A. Utiliser une bibliothèque ou un framework vérifié\n",
            "B. Utiliser des bibliothèques ou des frameworks qui simplifient la gestion des nombres\n",
            "C. Exécuter votre logiciel avec des fonctionnalités ou des extensions qui fournissent une protection automatique\n",
            "D. Utiliser un compilateur sans fonctionnalités de détection automatique des dépassements de tampon\n"
          ]
        },
        {
          "output_type": "stream",
          "name": "stderr",
          "text": [
            "\rGenerating responses:  33%|███▎      | 33/100 [00:47<01:14,  1.12s/it]"
          ]
        },
        {
          "output_type": "stream",
          "name": "stdout",
          "text": [
            "Warning: Content flagged for question: **Question :**\n",
            "\n",
            "Quelle est la conséquence commune de CWE-406 ?\n",
            "\n",
            "A. Amplification de ressources asymétriques\n",
            "B. DoS : consommation de ressources\n",
            "C. Attaques par inondation\n",
            "D. Attaques par déni de service\n",
            "\n",
            "**\n"
          ]
        },
        {
          "output_type": "stream",
          "name": "stderr",
          "text": [
            "\rGenerating responses:  34%|███▍      | 34/100 [00:48<01:07,  1.02s/it]"
          ]
        },
        {
          "output_type": "stream",
          "name": "stdout",
          "text": [
            "Warning: Content flagged for question: Question : Quelle stratégie de validation des entrées est recommandée pour éviter les vulnérabilités de type CWE-148 ?\n",
            "A. Utiliser une liste noire pour identifier les entrées malveillantes\n",
            "B. Utiliser une liste blanche pour accepter uniquement les entrées valides\n",
            "C. Utiliser exclusivement des expressions régulières pour valider les entrées\n",
            "D. Rejeter uniquement les entrées qui sont syntaxiquement incorrectes\n"
          ]
        },
        {
          "output_type": "stream",
          "name": "stderr",
          "text": [
            "\rGenerating responses:  35%|███▌      | 35/100 [00:49<01:01,  1.05it/s]"
          ]
        },
        {
          "output_type": "stream",
          "name": "stdout",
          "text": [
            "Warning: Content flagged for question: Question : Quelle faiblesse de sécurité est illustrée dans l'exemple 6 ?\n",
            "A. Utilisation d'une liste blanche inadéquate\n",
            "B. Manque de vérification de contrôle d'accès\n",
            "C. Utilisation de requêtes SQL non préparées\n",
            "D. Stockage non sécurisé des informations d'identification\n"
          ]
        },
        {
          "output_type": "stream",
          "name": "stderr",
          "text": [
            "\rGenerating responses:  36%|███▌      | 36/100 [00:50<00:58,  1.10it/s]"
          ]
        },
        {
          "output_type": "stream",
          "name": "stdout",
          "text": [
            "Warning: Content flagged for question: **Question :**\n",
            "Quelle est l'erreur dans le fragment de code C fourni ?\n",
            "\n",
            "**A.** L'utilisation de pthread_mutex_lock() sans vérifier sa valeur de retour\n",
            "**B.** L'absence de pthread_mutex_unlock() après avoir acquis le mutex\n",
            "**C.** L'utilisation d'un type de données incorrect pour le mutex\n",
            "**D.** Toutes les réponses ci-dessus\n",
            "\n",
            "**\n"
          ]
        },
        {
          "output_type": "stream",
          "name": "stderr",
          "text": [
            "\rGenerating responses:  37%|███▋      | 37/100 [00:51<00:54,  1.15it/s]"
          ]
        },
        {
          "output_type": "stream",
          "name": "stdout",
          "text": [
            "Warning: Content flagged for question: Question : Lequel des éléments suivants N'EST PAS un domaine dans lequel ATT&CK est utilisé ?\n",
            "A. Détection d'intrusion\n",
            "B. Chasse aux menaces\n",
            "C. Ingénierie de sécurité\n",
            "D. Misinformation\n"
          ]
        },
        {
          "output_type": "stream",
          "name": "stderr",
          "text": [
            "\rGenerating responses:  38%|███▊      | 38/100 [00:51<00:53,  1.16it/s]"
          ]
        },
        {
          "output_type": "stream",
          "name": "stdout",
          "text": [
            "Warning: Content flagged for question: Question : Dans quelles circonstances une autorité de contrôle non principale peut-elle traiter des cas locaux ?\n",
            "\n",
            "A. Lorsque le traitement concerne uniquement les données des salariés dans un État membre spécifique\n",
            "B. Lorsque l'autorité principale ne répond pas dans les délais\n",
            "C. Lorsque l'autorité principale refuse de traiter le cas\n",
            "D. Lorsque l'autorité non principale est la plus compétente pour traiter le cas\n"
          ]
        },
        {
          "output_type": "stream",
          "name": "stderr",
          "text": [
            "\rGenerating responses:  39%|███▉      | 39/100 [00:52<00:51,  1.19it/s]"
          ]
        },
        {
          "output_type": "stream",
          "name": "stdout",
          "text": [
            "Warning: Content flagged for question: Question : Laquelle des techniques suivantes est mentionnée dans le texte pour prévenir les accès directs aux fichiers en dehors de la racine du document Web ?\n",
            "A. Définition d'une constante fixe dans le programme appelant\n",
            "B. Utilisation d'un répertoire séparé et des capacités de contrôle d'accès du serveur Web\n",
            "C. Capturer les erreurs dans les messages de journal\n",
            "D. Utilisation de la fonction register_globals\n"
          ]
        },
        {
          "output_type": "stream",
          "name": "stderr",
          "text": [
            "\rGenerating responses:  40%|████      | 40/100 [00:53<00:50,  1.19it/s]"
          ]
        },
        {
          "output_type": "stream",
          "name": "stdout",
          "text": [
            "Warning: Content flagged for question: Question : Quelle est la première atténuation potentielle mentionnée dans le texte ?\n",
            "A. Faire que la méthode cloneable() soit finale.\n",
            "B. Faire que la méthode cloneable() soit privée.\n",
            "C. Faire que la méthode cloneable() soit protégée.\n",
            "D. Faire que la méthode cloneable() soit publique.\n"
          ]
        },
        {
          "output_type": "stream",
          "name": "stderr",
          "text": [
            "\rGenerating responses:  41%|████      | 41/100 [00:54<00:48,  1.22it/s]"
          ]
        },
        {
          "output_type": "stream",
          "name": "stdout",
          "text": [
            "Warning: Content flagged for question: Question : Quelles sont les conséquences courantes d'une validation d'entrée incorrecte, comme décrit dans le texte ?\n",
            "A. Intégrité uniquement\n",
            "B. Confidentialité et disponibilité\n",
            "C. Disponibilité uniquement\n",
            "D. Confidentialité uniquement\n"
          ]
        },
        {
          "output_type": "stream",
          "name": "stderr",
          "text": [
            "\rGenerating responses:  42%|████▏     | 42/100 [00:55<00:46,  1.24it/s]"
          ]
        },
        {
          "output_type": "stream",
          "name": "stdout",
          "text": [
            "Warning: Content flagged for question: Question : Quelle est une mesure d'atténuation potentielle contre les erreurs d'index de tableau mentionnée dans le texte ?\n",
            "A. Architecture et conception\n",
            "B. Validation des entrées\n",
            "C. Bibliothèques ou frameworks\n",
            "D. Correction d'erreurs\n"
          ]
        },
        {
          "output_type": "stream",
          "name": "stderr",
          "text": [
            "\rGenerating responses:  43%|████▎     | 43/100 [00:55<00:45,  1.25it/s]"
          ]
        },
        {
          "output_type": "stream",
          "name": "stdout",
          "text": [
            "Warning: Content flagged for question: Question :  Quel choix n'est PAS une faiblesse liée à la mauvaise neutralisation d'éléments spéciaux ?\n",
            "A. Neutralisation incorrecte d'éléments spéciaux dans les données de sortie\n",
            "B. Neutralisation incorrecte des délimiteurs\n",
            "C. Neutralisation incorrecte des terminateurs d'entrée\n",
            "D. Erreurs de représentation\n"
          ]
        },
        {
          "output_type": "stream",
          "name": "stderr",
          "text": [
            "\rGenerating responses:  44%|████▍     | 44/100 [00:56<00:44,  1.25it/s]"
          ]
        },
        {
          "output_type": "stream",
          "name": "stdout",
          "text": [
            "Warning: Content flagged for question: Question : Laquelle des pratiques suivantes est une bonne pratique pour atténuer la vulnérabilité CVE-2010-0211 ?\n",
            "A. Vérifier les résultats des fonctions qui retournent une valeur\n",
            "B. Se fier uniquement à la valeur de retour de la fonction\n",
            "C. Ignorer complètement les valeurs de retour des fonctions\n",
            "D. Supprimer toute vérification des valeurs de retour des fonctions\n"
          ]
        },
        {
          "output_type": "stream",
          "name": "stderr",
          "text": [
            "\rGenerating responses:  45%|████▌     | 45/100 [00:57<00:43,  1.26it/s]"
          ]
        },
        {
          "output_type": "stream",
          "name": "stdout",
          "text": [
            "Warning: Content flagged for question: Question : Quelle est l'une des conséquences courantes d'une mauvaise gestion d'un élément spécial manquant ?\n",
            "A. Corruption des données\n",
            "B. Vulnérabilités d'injection\n",
            "C. DoS : plantage / sortie / redémarrage\n",
            "D. Violation d'accès\n"
          ]
        },
        {
          "output_type": "stream",
          "name": "stderr",
          "text": [
            "\rGenerating responses:  46%|████▌     | 46/100 [00:58<00:43,  1.25it/s]"
          ]
        },
        {
          "output_type": "stream",
          "name": "stdout",
          "text": [
            "Warning: Content flagged for question: Question : Laquelle des affirmations suivantes est une conséquence potentielle de l'utilisation d'une API non omniprésente ?\n",
            "A. Problèmes de portabilité\n",
            "B. Incohérences\n",
            "C. Déni de service\n",
            "D. Toutes les réponses ci-dessus\n"
          ]
        },
        {
          "output_type": "stream",
          "name": "stderr",
          "text": [
            "\rGenerating responses:  47%|████▋     | 47/100 [00:58<00:42,  1.26it/s]"
          ]
        },
        {
          "output_type": "stream",
          "name": "stdout",
          "text": [
            "Warning: Content flagged for question: Question : Quelle est la description succincte de la faiblesse CWE-394 ?\n",
            "\n",
            "A. La mauvaise gestion d'exceptions peut entraîner des résultats inattendus.\n",
            "B. Les fonctions retournent des valeurs inattendues, ce qui entraîne des erreurs de déréférencement NULL.\n",
            "C. L'utilisation d'une capture NullPointerException peut détecter les déréférencements de pointeur NULL.\n",
            "D. Les erreurs de mise en œuvre peuvent conduire à des états inattendus.\n"
          ]
        },
        {
          "output_type": "stream",
          "name": "stderr",
          "text": [
            "\rGenerating responses:  48%|████▊     | 48/100 [00:59<00:41,  1.25it/s]"
          ]
        },
        {
          "output_type": "stream",
          "name": "stdout",
          "text": [
            "Warning: Content flagged for question: Question : Dans l'exemple 2 du texte, quel est le comportement potentiel de l'erreur de codage ?\n",
            "A. Le programme peut continuer à s'exécuter en libérant de la mémoire.\n",
            "B. Le programme s'arrêtera brutalement avec une erreur de segmentation.\n",
            "C. Le programme pourra effectuer une sortie normale.\n",
            "D. L'erreur sera ignorée et n'aura aucune conséquence.\n"
          ]
        },
        {
          "output_type": "stream",
          "name": "stderr",
          "text": [
            "\rGenerating responses:  49%|████▉     | 49/100 [01:00<00:40,  1.26it/s]"
          ]
        },
        {
          "output_type": "stream",
          "name": "stdout",
          "text": [
            "Warning: Content flagged for question: Question : Lequel des éléments suivants est une conséquence potentielle d'une mauvaise configuration ASP.NET sans validation d'entrée ?\n",
            "A. Exécution de code non autorisé\n",
            "B. Violation de l'intégrité\n",
            "C. Atteinte à la confidentialité\n",
            "D. Réduction de la disponibilité\n"
          ]
        },
        {
          "output_type": "stream",
          "name": "stderr",
          "text": [
            "\rGenerating responses:  50%|█████     | 50/100 [01:01<00:40,  1.25it/s]"
          ]
        },
        {
          "output_type": "stream",
          "name": "stdout",
          "text": [
            "Warning: Content flagged for question: **Question :**\n",
            "\n",
            "Quel est le type de faille de sécurité identifié dans le texte ?\n",
            "\n",
            "A. Exposition de données sensibles par requêtes de données\n",
            "B. Fuite d'informations par message d'erreur\n",
            "C. Accès non autorisé à la base de données\n",
            "D. Vulnérabilité de canal ouvert\n",
            "\n",
            "**\n"
          ]
        },
        {
          "output_type": "stream",
          "name": "stderr",
          "text": [
            "\rGenerating responses:  51%|█████     | 51/100 [01:02<00:39,  1.24it/s]"
          ]
        },
        {
          "output_type": "stream",
          "name": "stdout",
          "text": [
            "Warning: Content flagged for question: Question : Quel est le critère principal pour nommer une technique ?\n",
            "A. Sa précision\n",
            "B. Son impact\n",
            "C. Son unicité\n",
            "D. Son application\n"
          ]
        },
        {
          "output_type": "stream",
          "name": "stderr",
          "text": [
            "\rGenerating responses:  52%|█████▏    | 52/100 [01:03<00:38,  1.24it/s]"
          ]
        },
        {
          "output_type": "stream",
          "name": "stdout",
          "text": [
            "Warning: Content flagged for question: Question :  Lequel des éléments suivants peut être spécifié dans les codes de conduite pour l'application du règlement ?\n",
            "A. Le traitement loyal et transparent\n",
            "B. Les intérêts légitimes poursuivis par les responsables du traitement dans des contextes spécifiques\n",
            "C. Les mesures et procédures mentionnées aux articles 24 et 25\n",
            "D. Tout ce qui précède\n"
          ]
        },
        {
          "output_type": "stream",
          "name": "stderr",
          "text": [
            "\rGenerating responses:  53%|█████▎    | 53/100 [01:04<00:42,  1.10it/s]"
          ]
        },
        {
          "output_type": "stream",
          "name": "stdout",
          "text": [
            "Warning: Content flagged for question: Question : Quelle méthode de détection des vulnérabilités d'injection SQL présente des faux positifs ?\n",
            "A. Analyse statique automatisée\n",
            "B. Analyse dynamique automatisée\n",
            "C. Analyse manuelle\n",
            "D. Fuzz testing\n"
          ]
        },
        {
          "output_type": "stream",
          "name": "stderr",
          "text": [
            "\rGenerating responses:  54%|█████▍    | 54/100 [01:04<00:40,  1.14it/s]"
          ]
        },
        {
          "output_type": "stream",
          "name": "stdout",
          "text": [
            "Warning: Content flagged for question: Question : Selon le texte, quelle est l'une des conséquences possibles de l'utilisation d'un algorithme cryptographique faible ou risqué ?\n",
            "\n",
            "A. Fuite de données sensibles\n",
            "B. Augmentation de la vitesse de traitement\n",
            "C. Meilleure sécurité des données\n",
            "D. Aucun des choix A, B ou C\n"
          ]
        },
        {
          "output_type": "stream",
          "name": "stderr",
          "text": [
            "\rGenerating responses:  55%|█████▌    | 55/100 [01:05<00:40,  1.11it/s]"
          ]
        },
        {
          "output_type": "stream",
          "name": "stdout",
          "text": [
            "Warning: Content flagged for question: Question : Laquelle des failles CWE suivantes est liée aux erreurs de gestion des ressources ?\n",
            "A. CWE-395\n",
            "B. CWE-399\n",
            "C. CWE-405\n",
            "D. CWE-410\n"
          ]
        },
        {
          "output_type": "stream",
          "name": "stderr",
          "text": [
            "\rGenerating responses:  56%|█████▌    | 56/100 [01:06<00:39,  1.12it/s]"
          ]
        },
        {
          "output_type": "stream",
          "name": "stdout",
          "text": [
            "Warning: Content flagged for question: Question :\n",
            "Quel type d'attaque peut être possible si l'authentification ou son échec est ignoré ?\n",
            "A. MitM\n",
            "B. CSRF\n",
            "C. Brute-force\n",
            "D. Phishing\n"
          ]
        },
        {
          "output_type": "stream",
          "name": "stderr",
          "text": [
            "\rGenerating responses:  57%|█████▋    | 57/100 [01:07<00:37,  1.14it/s]"
          ]
        },
        {
          "output_type": "stream",
          "name": "stdout",
          "text": [
            "Warning: Content flagged for question: Quelle est la faiblesse décrite dans le texte ?\n",
            "\n",
            "A. CWE-185\n",
            "B. CAPEC-3\n",
            "C. CAPEC-18\n",
            "D. CAPEC-85\n"
          ]
        },
        {
          "output_type": "stream",
          "name": "stderr",
          "text": [
            "\rGenerating responses:  58%|█████▊    | 58/100 [01:10<01:01,  1.45s/it]"
          ]
        },
        {
          "output_type": "stream",
          "name": "stdout",
          "text": [
            "Warning: Content flagged for question: Question : Quelle est la bonne pratique J2EE pour obtenir une connexion à la base de données ?\n",
            "A. Utiliser DriverManager.getConnection()\n",
            "B. Utiliser la gestion des ressources du conteneur d'application Web\n",
            "C. Écrire manuellement le code de connexion\n",
            "D. Créer une nouvelle instance de Connection\n"
          ]
        },
        {
          "output_type": "stream",
          "name": "stderr",
          "text": [
            "\rGenerating responses:  59%|█████▉    | 59/100 [01:12<01:03,  1.56s/it]"
          ]
        },
        {
          "output_type": "stream",
          "name": "stdout",
          "text": [
            "Warning: Content flagged for question: **Question :**\n",
            "\n",
            "Quelle est la cause du problème de sécurité décrit dans le texte ?\n",
            "\n",
            "A. Le filtre des scripts dans les chaînes de requête HTTP est contourné.\n",
            "B. Les caractères spéciaux sont mal neutralisés dans les identifiants des pages Web.\n",
            "C. Les entrées contrôlées par l'utilisateur ne sont pas correctement filtrées pour les scripts exécutables.\n",
            "D. Les données HTTP ne sont pas correctement encodées.\n",
            "\n",
            "**\n"
          ]
        },
        {
          "output_type": "stream",
          "name": "stderr",
          "text": [
            "\rGenerating responses:  60%|██████    | 60/100 [01:13<00:53,  1.33s/it]"
          ]
        },
        {
          "output_type": "stream",
          "name": "stdout",
          "text": [
            "Warning: Content flagged for question: **Question :**\n",
            "\n",
            "Quelle conséquence commune est mentionnée dans le texte ?\n",
            "\n",
            "A. Denial of service\n",
            "B. Confidencialité\n",
            "C. Authentification\n",
            "D. Disponibilité\n",
            "\n",
            "**\n"
          ]
        },
        {
          "output_type": "stream",
          "name": "stderr",
          "text": [
            "\rGenerating responses:  61%|██████    | 61/100 [01:13<00:45,  1.17s/it]"
          ]
        },
        {
          "output_type": "stream",
          "name": "stdout",
          "text": [
            "Warning: Content flagged for question: Question : Quelle est la conséquence courante de ce type de vulnérabilité ?\n",
            "A. Accès non autorisé aux fichiers\n",
            "B. Modification des fichiers système\n",
            "C. Exécution de code arbitraire\n",
            "D. Usurpation d'identité\n"
          ]
        },
        {
          "output_type": "stream",
          "name": "stderr",
          "text": [
            "\rGenerating responses:  62%|██████▏   | 62/100 [01:14<00:40,  1.06s/it]"
          ]
        },
        {
          "output_type": "stream",
          "name": "stdout",
          "text": [
            "Warning: Content flagged for question: Question :\n",
            "Quel exemple de code est cité dans le texte pour illustrer la perte de précision lors de la conversion d'un littéral float en un entier ?\n",
            "\n",
            "A. Exemple Java\n",
            "B. Exemple PHP\n",
            "C. Exemple CVE-2007-4268\n",
            "D. Exemple CVE-2009-0231\n"
          ]
        },
        {
          "output_type": "stream",
          "name": "stderr",
          "text": [
            "Generating responses:  79%|███████▉  | 79/100 [01:39<00:28,  1.35s/it]"
          ]
        },
        {
          "output_type": "stream",
          "name": "stdout",
          "text": [
            "Warning: Content flagged for question: **Question :**\n",
            "\n",
            "Selon le texte, pour atténuer le risque de mauvaise gestion d'éléments spéciaux incohérents, quelle stratégie de validation d'entrée est recommandée ?\n",
            "\n",
            "**A.** Utiliser uniquement des listes noires\n",
            "**B.** Utiliser uniquement des listes blanches\n",
            "**C.** Utiliser une combinaison de listes noires et blanches\n",
            "**D.** Ne pas effectuer de validation d'entrée\n",
            "\n",
            "**\n"
          ]
        },
        {
          "output_type": "stream",
          "name": "stderr",
          "text": [
            "\rGenerating responses:  80%|████████  | 80/100 [01:40<00:23,  1.19s/it]"
          ]
        },
        {
          "output_type": "stream",
          "name": "stdout",
          "text": [
            "Warning: Content flagged for question: **Question :**\n",
            "\n",
            "Selon le texte, quelle catégorie CWE est couverte par les faiblesses de Struts ?\n",
            "\n",
            "A. CWE-101\n",
            "B. CWE-129\n",
            "C. CWE-602\n",
            "D. CWE-78\n",
            "\n",
            "**\n"
          ]
        },
        {
          "output_type": "stream",
          "name": "stderr",
          "text": [
            "\rGenerating responses:  81%|████████  | 81/100 [01:40<00:20,  1.07s/it]"
          ]
        },
        {
          "output_type": "stream",
          "name": "stdout",
          "text": [
            "Warning: Content flagged for question: Question : Selon le texte, laquelle des affirmations suivantes est VRAIE concernant les listes noires ?\n",
            "\n",
            "A. Elles sont toujours efficaces pour détecter tous les intrants indésirables.\n",
            "B. Elles peuvent être utilisées pour détecter des attaques potentielles.\n",
            "C. Elles ne sont pas utiles pour valider les intrants.\n",
            "D. Elles doivent être utilisées uniquement lors de la validation des extrants.\n"
          ]
        },
        {
          "output_type": "stream",
          "name": "stderr",
          "text": [
            "\rGenerating responses:  82%|████████▏ | 82/100 [01:41<00:18,  1.02s/it]"
          ]
        },
        {
          "output_type": "stream",
          "name": "stdout",
          "text": [
            "Warning: Content flagged for question: Question : Selon le texte, quel type d'organisme devrait être en mesure de divulguer des données personnelles contenues dans des documents ?\n",
            "\n",
            "A. Les autorités publiques et les organismes publics uniquement\n",
            "B. Les entreprises privées uniquement\n",
            "C. Les autorités publiques, les organismes publics et les entreprises privées\n",
            "D. Les particuliers uniquement\n"
          ]
        },
        {
          "output_type": "stream",
          "name": "stderr",
          "text": [
            "Generating responses:  84%|████████▍ | 84/100 [01:44<00:16,  1.06s/it]"
          ]
        },
        {
          "output_type": "stream",
          "name": "stdout",
          "text": [
            "Warning: Content flagged for question: **Question :**\n",
            "\n",
            "Quelle faiblesse permet le contournement de l'authentification en modifiant l'objet CTX OpenSSL après la création des objets SSL ?\n",
            "\n",
            "**A.** CWE-592\n",
            "**B.** CWE-593\n",
            "**C.** MEM06-C\n",
            "**D.** OWASP Top Ten 2004 A3\n",
            "\n",
            "**\n"
          ]
        },
        {
          "output_type": "stream",
          "name": "stderr",
          "text": [
            "\rGenerating responses:  85%|████████▌ | 85/100 [01:44<00:14,  1.00it/s]"
          ]
        },
        {
          "output_type": "stream",
          "name": "stdout",
          "text": [
            "Warning: Content flagged for question: Question :\n",
            "Selon le texte, quelle est la faille de sécurité associée à CWE-423 ?\n",
            "A. Proxied Trusted Channel\n",
            "B. Improper Protection of Alternate Path\n",
            "C. Direct Request ('Forced Browsing')\n",
            "D. Channel and Path Errors\n"
          ]
        },
        {
          "output_type": "stream",
          "name": "stderr",
          "text": [
            "\rGenerating responses:  86%|████████▌ | 86/100 [01:45<00:13,  1.06it/s]"
          ]
        },
        {
          "output_type": "stream",
          "name": "stdout",
          "text": [
            "Warning: Content flagged for question: Question : Laquelle des vulnérabilités suivantes est liée à des erreurs de type de données ?\n",
            "A. CWE-605\n",
            "B. CWE-606\n",
            "C. CWE-626\n",
            "D. CWE-646\n"
          ]
        },
        {
          "output_type": "stream",
          "name": "stderr",
          "text": [
            "Generating responses:  88%|████████▊ | 88/100 [01:47<00:12,  1.00s/it]"
          ]
        },
        {
          "output_type": "stream",
          "name": "stdout",
          "text": [
            "Warning: Content flagged for question: Question : Quelles sont les conséquences courantes du code malveillant non réplicant ?\n",
            "A. Corruption des données\n",
            "B. Exécution de commandes non autorisées\n",
            "C. Suppression des fichiers\n",
            "D. Vol d'identité\n"
          ]
        },
        {
          "output_type": "stream",
          "name": "stderr",
          "text": [
            "\rGenerating responses:  89%|████████▉ | 89/100 [01:48<00:10,  1.07it/s]"
          ]
        },
        {
          "output_type": "stream",
          "name": "stdout",
          "text": [
            "Warning: Content flagged for question: **Question :**\n",
            "\n",
            "Quel est l'un des moyens courants de contourner l'authentification côté client ?\n",
            "\n",
            "**A.** Chiffrement côté serveur\n",
            "**B.** Inspection des en-têtes HTTP côté serveur\n",
            "**C.** Modification du code client pour omettre la vérification d'authentification\n",
            "**D.** Implémentation d'un pare-feu côté client\n",
            "\n",
            "**\n"
          ]
        },
        {
          "output_type": "stream",
          "name": "stderr",
          "text": [
            "\rGenerating responses:  90%|█████████ | 90/100 [01:49<00:09,  1.09it/s]"
          ]
        },
        {
          "output_type": "stream",
          "name": "stdout",
          "text": [
            "Warning: Content flagged for question: Question : Quelle est la principale vulnérabilité abordée dans le texte ?\n",
            "A. Validation XML manquante\n",
            "B. Appels JNI non sécurisés\n",
            "C. Exposition des informations système\n",
            "D. Utilisation de code natif\n"
          ]
        },
        {
          "output_type": "stream",
          "name": "stderr",
          "text": [
            "\rGenerating responses:  91%|█████████ | 91/100 [01:50<00:07,  1.13it/s]"
          ]
        },
        {
          "output_type": "stream",
          "name": "stdout",
          "text": [
            "Warning: Content flagged for question: Question :\n",
            "Quelle section du CERT C Secure Coding Standard est dédiée aux expressions (EXP) ?\n",
            "A. Section 01\n",
            "B. Section 02\n",
            "C. Section 03\n",
            "D. Section 04\n"
          ]
        },
        {
          "output_type": "stream",
          "name": "stderr",
          "text": [
            "\rGenerating responses:  92%|█████████▏| 92/100 [01:51<00:07,  1.14it/s]"
          ]
        },
        {
          "output_type": "stream",
          "name": "stdout",
          "text": [
            "Warning: Content flagged for question: Question : Quelle est la meilleure pratique pour empêcher les attaques par injection SQL ?\n",
            "A. Utiliser des déclarations préparées avec des variables liées\n",
            "B. Échapper les métacaractères\n",
            "C. Autoriser une large gamme de caractères dans les requêtes SQL\n",
            "D. Dupliquer les contrôles de sécurité sur le côté serveur\n"
          ]
        },
        {
          "output_type": "stream",
          "name": "stderr",
          "text": [
            "\rGenerating responses:  93%|█████████▎| 93/100 [01:52<00:06,  1.14it/s]"
          ]
        },
        {
          "output_type": "stream",
          "name": "stdout",
          "text": [
            "Warning: Content flagged for question: Question : Quel est le principe qui dicte que l'accès aux privilèges système doit être limité au minimum nécessaire ?\n",
            "\n",
            "A. Principe de la responsabilité minimale\n",
            "B. Principe de moindre privilège\n",
            "C. Principe de séparation des tâches\n",
            "D. Principe de défense en profondeur\n"
          ]
        },
        {
          "output_type": "stream",
          "name": "stderr",
          "text": [
            "\rGenerating responses:  94%|█████████▍| 94/100 [01:52<00:05,  1.17it/s]"
          ]
        },
        {
          "output_type": "stream",
          "name": "stdout",
          "text": [
            "Warning: Content flagged for question: Question : Laquelle des faiblesses suivantes est une \"Composite\" selon la liste ?\n",
            "A. 787 Out-of-bounds Write\n",
            "B. 788 Access of Memory Location After End of Buffer\n",
            "C. 822 Untrusted Pointer Dereference\n",
            "D. 843 Access of Resource Using Incompatible Type ('Type Confusion')\n"
          ]
        },
        {
          "output_type": "stream",
          "name": "stderr",
          "text": [
            "\rGenerating responses:  95%|█████████▌| 95/100 [01:54<00:05,  1.03s/it]"
          ]
        },
        {
          "output_type": "stream",
          "name": "stdout",
          "text": [
            "Warning: Content flagged for question: **Question :**\n",
            "\n",
            "Quelle est la conséquence potentielle d'un PRNG faible sur la sécurité ?\n",
            "\n",
            "**A.** Aucun impact\n",
            "**B.** Affaiblissement des méthodes de cryptage\n",
            "**C.** Augmentation de la puissance de traitement nécessaire\n",
            "**D.** Diminution de l'entropie du système\n",
            "\n",
            "**\n"
          ]
        },
        {
          "output_type": "stream",
          "name": "stderr",
          "text": [
            "\rGenerating responses:  96%|█████████▌| 96/100 [01:55<00:03,  1.03it/s]"
          ]
        },
        {
          "output_type": "stream",
          "name": "stdout",
          "text": [
            "Warning: Content flagged for question: Question : Selon le texte, quelle est la conséquence potentielle de l'utilisation d'une source d'entropie limitée dans un générateur de nombres aléatoires ?\n",
            "A. Le générateur pourrait produire des nombres aléatoires prévisibles.\n",
            "B. Le générateur pourrait générer des nombres non aléatoires.\n",
            "C. Le générateur pourrait se bloquer ou planter.\n",
            "D. Le générateur pourrait consommer trop de ressources.\n"
          ]
        },
        {
          "output_type": "stream",
          "name": "stderr",
          "text": [
            "\rGenerating responses:  97%|█████████▋| 97/100 [01:56<00:02,  1.06it/s]"
          ]
        },
        {
          "output_type": "stream",
          "name": "stdout",
          "text": [
            "Warning: Content flagged for question: Question : Quelle est la faiblesse décrite dans le texte ?\n",
            "A. Exposition d'un référentiel CVS à une sphère de contrôle non autorisée\n",
            "B. Exposition d'un fichier de vidage de mémoire à une sphère de contrôle non autorisée\n",
            "C. Exposition d'informations de levage intégrées dans les distributions client\n",
            "D. Exposition d'informations via des variables d'environnement\n"
          ]
        },
        {
          "output_type": "stream",
          "name": "stderr",
          "text": [
            "\rGenerating responses:  98%|█████████▊| 98/100 [01:56<00:01,  1.11it/s]"
          ]
        },
        {
          "output_type": "stream",
          "name": "stdout",
          "text": [
            "Warning: Content flagged for question: Question : Laquelle des affirmations suivantes est vraie concernant la relation entre Equals() et Hashcode() ?\n",
            "A. Equals() doit être défini avant que Hashcode() puisse être défini.\n",
            "B. Hashcode() doit être défini avant que Equals() puisse être défini.\n",
            "C. Les deux Equals() et Hashcode() doivent être définis.\n",
            "D. Aucune des options ci-dessus.\n"
          ]
        },
        {
          "output_type": "stream",
          "name": "stderr",
          "text": [
            "\rGenerating responses:  99%|█████████▉| 99/100 [01:57<00:00,  1.13it/s]"
          ]
        },
        {
          "output_type": "stream",
          "name": "stdout",
          "text": [
            "Warning: Content flagged for question: Question : Quel CWE concerne les faiblesses de l'interaction entre les composants ?\n",
            "A. CWE-800\n",
            "B. CWE-801\n",
            "C. CWE-802\n",
            "D. CWE-803\n"
          ]
        },
        {
          "output_type": "stream",
          "name": "stderr",
          "text": [
            "\rGenerating responses: 100%|██████████| 100/100 [01:58<00:00,  1.16it/s]"
          ]
        },
        {
          "output_type": "stream",
          "name": "stdout",
          "text": [
            "Warning: Content flagged for question: Question :\n",
            "Quel type d'attaque peut être causé par un débordement de tampon basé sur la pile ?\n",
            "A. Débordement de tampon basé sur le tas\n",
            "B. Dépassement de capacité d'indexation de tableau\n",
            "C. Écrasement du pointeur de retour\n",
            "D. Écrasement du pointeur de pile\n"
          ]
        },
        {
          "output_type": "stream",
          "name": "stderr",
          "text": [
            "\rGenerating responses: 100%|██████████| 100/100 [01:59<00:00,  1.19s/it]"
          ]
        },
        {
          "output_type": "stream",
          "name": "stdout",
          "text": [
            "Warning: Content flagged for question: Question : Quel type de codage de sortie est recommandé pour prévenir les attaques ?\n",
            "A. ISO 8859-1\n",
            "B. Unicode\n",
            "C. ANSI\n",
            "D. ASCII\n",
            "The file with generated answers has been saved to: /content/random_sample_mcq.tsv\n"
          ]
        },
        {
          "output_type": "stream",
          "name": "stderr",
          "text": [
            "\n"
          ]
        }
      ]
    }
  ]
}