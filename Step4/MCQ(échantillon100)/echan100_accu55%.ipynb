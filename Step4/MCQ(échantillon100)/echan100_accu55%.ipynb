{
  "nbformat": 4,
  "nbformat_minor": 0,
  "metadata": {
    "colab": {
      "provenance": []
    },
    "kernelspec": {
      "name": "python3",
      "display_name": "Python 3"
    },
    "language_info": {
      "name": "python"
    }
  },
  "cells": [
    {
      "cell_type": "code",
      "execution_count": 2,
      "metadata": {
        "id": "bnTHVZHRcprC"
      },
      "outputs": [],
      "source": [
        "import google.generativeai as genai\n",
        "from google.colab import userdata\n",
        "gemini_key = userdata.get('22_key')"
      ]
    },
    {
      "cell_type": "code",
      "source": [
        "# configuration du modèle\n",
        "generation_config = {\n",
        "  \"temperature\": 0,\n",
        "  \"top_p\": 1,\n",
        "  \"top_k\": 5,\n",
        "  \"max_output_tokens\": 2048,\n",
        "}"
      ],
      "metadata": {
        "id": "4Y_TKQwCdPXx"
      },
      "execution_count": 16,
      "outputs": []
    },
    {
      "cell_type": "code",
      "source": [
        "# appel au modèle generative avec la configuration déjà fixée\n",
        "model = genai.GenerativeModel(model_name= \"gemini-1.0-pro\",\n",
        "                              generation_config = generation_config)"
      ],
      "metadata": {
        "id": "QyQ0icmedQHn"
      },
      "execution_count": 17,
      "outputs": []
    },
    {
      "cell_type": "code",
      "source": [
        "import pandas as pd\n",
        "\n",
        "# Remplace 'ton_fichier.tsv' par le nom de ton fichier TSV\n",
        "df = pd.read_csv('/content/questions_reponses_generation_mcq.tsv', sep='\\t')\n",
        "\n",
        "# Affiche les index et les premières lignes du fichier\n",
        "print(df.index)         # Montre les index des lignes\n",
        "print(df.columns)       # Affiche les noms des colonnes\n",
        "print(df.head(1))        # Affiche les premières lignes pour avoir un aperçu\n",
        "\n"
      ],
      "metadata": {
        "colab": {
          "base_uri": "https://localhost:8080/"
        },
        "id": "HILWAGowdSFV",
        "outputId": "27fb1e9f-b64b-44e7-9724-9466c157c1a4"
      },
      "execution_count": 14,
      "outputs": [
        {
          "output_type": "stream",
          "name": "stdout",
          "text": [
            "RangeIndex(start=0, stop=1363, step=1)\n",
            "Index(['Question', 'A', 'B', 'C', 'D', 'Réponse correcte'], dtype='object')\n",
            "                                            Question  A   B   C   D  \\\n",
            "0  Question : Quel est le rôle de la base de conn...  D NaN NaN NaN   \n",
            "\n",
            "   Réponse correcte  \n",
            "0               NaN  \n"
          ]
        }
      ]
    },
    {
      "cell_type": "code",
      "source": [
        "print(df['A'])"
      ],
      "metadata": {
        "colab": {
          "base_uri": "https://localhost:8080/"
        },
        "id": "PCd1pA5DfLmz",
        "outputId": "261f7892-18b7-44b4-8921-5c2511d5c2d1"
      },
      "execution_count": 15,
      "outputs": [
        {
          "output_type": "stream",
          "name": "stdout",
          "text": [
            "0          D\n",
            "1          A\n",
            "2       ** C\n",
            "3          A\n",
            "4        B**\n",
            "        ... \n",
            "1358       C\n",
            "1359       B\n",
            "1360       A\n",
            "1361       C\n",
            "1362       B\n",
            "Name: A, Length: 1363, dtype: object\n"
          ]
        }
      ]
    },
    {
      "cell_type": "code",
      "source": [
        "import pandas as pd\n",
        "\n",
        "# Remplace 'ton_fichier.tsv' par le nom de ton fichier TSV\n",
        "df1 = pd.read_csv('/content/random_sample_mcq.tsv', sep='\\t')\n",
        "\n",
        "# Affiche les index et les premières lignes du fichier\n",
        "print(df1.index)         # Montre les index des lignes\n",
        "print(df1.columns)       # Affiche les noms des colonnes\n",
        "#print(df1.head(1))        # Affiche les premières lignes pour avoir un aperçu\n",
        "\n"
      ],
      "metadata": {
        "colab": {
          "base_uri": "https://localhost:8080/"
        },
        "id": "cq_bZGUwf68-",
        "outputId": "d165a933-1a80-4e79-cefb-390829d2a93e"
      },
      "execution_count": 19,
      "outputs": [
        {
          "output_type": "stream",
          "name": "stdout",
          "text": [
            "RangeIndex(start=0, stop=100, step=1)\n",
            "Index(['Question', 'A', 'B', 'C', 'D', 'Réponse correcte', 'GenRes'], dtype='object')\n"
          ]
        }
      ]
    },
    {
      "cell_type": "code",
      "source": [
        "import pandas as pd\n",
        "\n",
        "\n",
        "\n",
        "# Séparer les lignes avec et sans \"Flagged\" dans la colonne \"GenRes\"\n",
        "flagged_rows = df1[df1['GenRes'] == 'Flagged']\n",
        "non_flagged_rows = df1[df1['GenRes'] != 'Flagged']\n",
        "\n",
        "# Combiner d'abord les non-flagged puis les flagged pour obtenir l'ordre souhaité\n",
        "sorted_df = pd.concat([non_flagged_rows, flagged_rows])\n",
        "\n",
        "# Sauvegarder le DataFrame trié dans le même fichier ou un nouveau fichier\n",
        "sorted_df.to_csv('/content/random_sample_mcq.tsv', sep='\\t', index=False)\n",
        "\n",
        "print(\"Les lignes contenant 'Flagged' ont été déplacées à la fin du fichier.\")\n"
      ],
      "metadata": {
        "colab": {
          "base_uri": "https://localhost:8080/"
        },
        "id": "EB2KhdLrharD",
        "outputId": "485c38f5-6657-4b33-b2e6-4f6cbeff658a"
      },
      "execution_count": 20,
      "outputs": [
        {
          "output_type": "stream",
          "name": "stdout",
          "text": [
            "Les lignes contenant 'Flagged' ont été déplacées à la fin du fichier.\n"
          ]
        }
      ]
    },
    {
      "cell_type": "code",
      "source": [
        "# Calculer le nombre de lignes contenant \"Flagged\" dans la colonne \"GenRes\"\n",
        "flagged_count = df1['GenRes'].value_counts().get('Flagged', 0)\n",
        "\n",
        "print(f\"Nombre de lignes contenant 'Flagged' dans la colonne 'GenRes' : {flagged_count}\")"
      ],
      "metadata": {
        "colab": {
          "base_uri": "https://localhost:8080/"
        },
        "id": "lJOkyzEniU3T",
        "outputId": "c705ea06-617c-44a5-8848-9565566ceeb5"
      },
      "execution_count": 21,
      "outputs": [
        {
          "output_type": "stream",
          "name": "stdout",
          "text": [
            "Nombre de lignes contenant 'Flagged' dans la colonne 'GenRes' : 56\n"
          ]
        }
      ]
    },
    {
      "cell_type": "code",
      "source": [
        "\n"
      ],
      "metadata": {
        "colab": {
          "base_uri": "https://localhost:8080/"
        },
        "id": "ZbAeRJ2vilh6",
        "outputId": "f3215ee7-8736-43e1-9bcd-d936429ae1bb"
      },
      "execution_count": 28,
      "outputs": [
        {
          "output_type": "stream",
          "name": "stdout",
          "text": [
            "Question            Question : Laquelle des pratiques suivantes es...\n",
            "A                                                                   A\n",
            "B                                                                 NaN\n",
            "C                                                                 NaN\n",
            "D                                                                 NaN\n",
            "Réponse correcte                                                  NaN\n",
            "GenRes                                                        Flagged\n",
            "Name: 42, dtype: object\n"
          ]
        }
      ]
    },
    {
      "cell_type": "code",
      "source": [
        "import pandas as pd\n",
        "\n",
        "# Charger le fichier TSV dans un DataFrame\n",
        "file_path = '/content/random_sample_mcq.tsv'\n",
        "data = pd.read_csv(file_path, sep='\\t')\n",
        "\n",
        "# Initialiser les compteurs\n",
        "cor_rep = 0\n",
        "conteur = 0\n",
        "flagged_count = 0\n",
        "\n",
        "# Parcourir les lignes du DataFrame\n",
        "for _, row in data.iterrows():\n",
        "    # Vérifier si \"GenRes\" est égal à \"Flagged\"\n",
        "    if row['GenRes'] == 'Flagged':\n",
        "        flagged_count += 1\n",
        "        continue  # Passer à la ligne suivante si \"GenRes\" est \"Flagged\"\n",
        "\n",
        "    # Vérifier si les colonnes \"A\" et \"GenRes\" sont identiques\n",
        "    if row['A'] == row['GenRes']:\n",
        "        cor_rep += 1  # Incrémenter cor_rep si les valeurs sont identiques\n",
        "    else:\n",
        "        conteur += 1  # Incrémenter conteur si les valeurs sont différentes\n",
        "\n",
        "# Afficher les résultats\n",
        "print(f\"Nombre de correspondances (cor_rep) : {cor_rep}\")\n",
        "print(f\"Nombre de lignes non 'Flagged' et non identiques (conteur) : {conteur}\")\n",
        "print(f\"Nombre de lignes contenant 'Flagged' dans 'GenRes' : {flagged_count}\")\n"
      ],
      "metadata": {
        "colab": {
          "base_uri": "https://localhost:8080/"
        },
        "id": "MNkx2GrojNu4",
        "outputId": "1e1ed53e-8b28-48f2-d2a5-9e215219d0db"
      },
      "execution_count": 31,
      "outputs": [
        {
          "output_type": "stream",
          "name": "stdout",
          "text": [
            "Nombre de correspondances (cor_rep) : 24\n",
            "Nombre de lignes non 'Flagged' et non identiques (conteur) : 20\n",
            "Nombre de lignes contenant 'Flagged' dans 'GenRes' : 56\n"
          ]
        }
      ]
    },
    {
      "cell_type": "code",
      "source": [
        "\n",
        "# Calculer l'accuracy\n",
        "accuracy = (cor_rep / (cor_rep + conteur))\n",
        "print(f\"Accuracy : {accuracy:.2f}%\")\n"
      ],
      "metadata": {
        "colab": {
          "base_uri": "https://localhost:8080/"
        },
        "id": "JyjIWIM8lp-a",
        "outputId": "85667b2d-51bf-4a4b-8737-0458e8b39e8b"
      },
      "execution_count": 32,
      "outputs": [
        {
          "output_type": "stream",
          "name": "stdout",
          "text": [
            "Accuracy : 0.55%\n"
          ]
        }
      ]
    },
    {
      "cell_type": "code",
      "source": [],
      "metadata": {
        "id": "ZEbeFJ2vnVwp"
      },
      "execution_count": null,
      "outputs": []
    }
  ]
}